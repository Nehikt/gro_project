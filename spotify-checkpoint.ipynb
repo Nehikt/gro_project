{
 "cells": [
  {
   "cell_type": "code",
   "execution_count": 49,
   "id": "3f116dc5",
   "metadata": {},
   "outputs": [],
   "source": [
    "import pandas as pd"
   ]
  },
  {
   "cell_type": "code",
   "execution_count": 50,
   "id": "b67e5909",
   "metadata": {},
   "outputs": [],
   "source": [
    "df=pd.read_csv(\"spotify_millsongdata.csv\")"
   ]
  },
  {
   "cell_type": "code",
   "execution_count": 51,
   "id": "2924fa5c",
   "metadata": {},
   "outputs": [
    {
     "data": {
      "text/html": [
       "<div>\n",
       "<style scoped>\n",
       "    .dataframe tbody tr th:only-of-type {\n",
       "        vertical-align: middle;\n",
       "    }\n",
       "\n",
       "    .dataframe tbody tr th {\n",
       "        vertical-align: top;\n",
       "    }\n",
       "\n",
       "    .dataframe thead th {\n",
       "        text-align: right;\n",
       "    }\n",
       "</style>\n",
       "<table border=\"1\" class=\"dataframe\">\n",
       "  <thead>\n",
       "    <tr style=\"text-align: right;\">\n",
       "      <th></th>\n",
       "      <th>artist</th>\n",
       "      <th>song</th>\n",
       "      <th>link</th>\n",
       "      <th>text</th>\n",
       "    </tr>\n",
       "  </thead>\n",
       "  <tbody>\n",
       "    <tr>\n",
       "      <th>0</th>\n",
       "      <td>ABBA</td>\n",
       "      <td>Ahe's My Kind Of Girl</td>\n",
       "      <td>/a/abba/ahes+my+kind+of+girl_20598417.html</td>\n",
       "      <td>Look at her face, it's a wonderful face  \\r\\nA...</td>\n",
       "    </tr>\n",
       "    <tr>\n",
       "      <th>1</th>\n",
       "      <td>ABBA</td>\n",
       "      <td>Andante, Andante</td>\n",
       "      <td>/a/abba/andante+andante_20002708.html</td>\n",
       "      <td>Take it easy with me, please  \\r\\nTouch me gen...</td>\n",
       "    </tr>\n",
       "    <tr>\n",
       "      <th>2</th>\n",
       "      <td>ABBA</td>\n",
       "      <td>As Good As New</td>\n",
       "      <td>/a/abba/as+good+as+new_20003033.html</td>\n",
       "      <td>I'll never know why I had to go  \\r\\nWhy I had...</td>\n",
       "    </tr>\n",
       "    <tr>\n",
       "      <th>3</th>\n",
       "      <td>ABBA</td>\n",
       "      <td>Bang</td>\n",
       "      <td>/a/abba/bang_20598415.html</td>\n",
       "      <td>Making somebody happy is a question of give an...</td>\n",
       "    </tr>\n",
       "    <tr>\n",
       "      <th>4</th>\n",
       "      <td>ABBA</td>\n",
       "      <td>Bang-A-Boomerang</td>\n",
       "      <td>/a/abba/bang+a+boomerang_20002668.html</td>\n",
       "      <td>Making somebody happy is a question of give an...</td>\n",
       "    </tr>\n",
       "  </tbody>\n",
       "</table>\n",
       "</div>"
      ],
      "text/plain": [
       "  artist                   song                                        link  \\\n",
       "0   ABBA  Ahe's My Kind Of Girl  /a/abba/ahes+my+kind+of+girl_20598417.html   \n",
       "1   ABBA       Andante, Andante       /a/abba/andante+andante_20002708.html   \n",
       "2   ABBA         As Good As New        /a/abba/as+good+as+new_20003033.html   \n",
       "3   ABBA                   Bang                  /a/abba/bang_20598415.html   \n",
       "4   ABBA       Bang-A-Boomerang      /a/abba/bang+a+boomerang_20002668.html   \n",
       "\n",
       "                                                text  \n",
       "0  Look at her face, it's a wonderful face  \\r\\nA...  \n",
       "1  Take it easy with me, please  \\r\\nTouch me gen...  \n",
       "2  I'll never know why I had to go  \\r\\nWhy I had...  \n",
       "3  Making somebody happy is a question of give an...  \n",
       "4  Making somebody happy is a question of give an...  "
      ]
     },
     "execution_count": 51,
     "metadata": {},
     "output_type": "execute_result"
    }
   ],
   "source": [
    "df.head(5)"
   ]
  },
  {
   "cell_type": "code",
   "execution_count": 52,
   "id": "51f8b738",
   "metadata": {},
   "outputs": [
    {
     "data": {
      "text/html": [
       "<div>\n",
       "<style scoped>\n",
       "    .dataframe tbody tr th:only-of-type {\n",
       "        vertical-align: middle;\n",
       "    }\n",
       "\n",
       "    .dataframe tbody tr th {\n",
       "        vertical-align: top;\n",
       "    }\n",
       "\n",
       "    .dataframe thead th {\n",
       "        text-align: right;\n",
       "    }\n",
       "</style>\n",
       "<table border=\"1\" class=\"dataframe\">\n",
       "  <thead>\n",
       "    <tr style=\"text-align: right;\">\n",
       "      <th></th>\n",
       "      <th>artist</th>\n",
       "      <th>song</th>\n",
       "      <th>link</th>\n",
       "      <th>text</th>\n",
       "    </tr>\n",
       "  </thead>\n",
       "  <tbody>\n",
       "    <tr>\n",
       "      <th>count</th>\n",
       "      <td>57650</td>\n",
       "      <td>57650</td>\n",
       "      <td>57650</td>\n",
       "      <td>57650</td>\n",
       "    </tr>\n",
       "    <tr>\n",
       "      <th>unique</th>\n",
       "      <td>643</td>\n",
       "      <td>44824</td>\n",
       "      <td>57650</td>\n",
       "      <td>57494</td>\n",
       "    </tr>\n",
       "    <tr>\n",
       "      <th>top</th>\n",
       "      <td>Donna Summer</td>\n",
       "      <td>Have Yourself A Merry Little Christmas</td>\n",
       "      <td>/w/wanda+jackson/fancy+satin+pillows_20197030....</td>\n",
       "      <td>Chestnuts roasting on an open fire  \\r\\nJack F...</td>\n",
       "    </tr>\n",
       "    <tr>\n",
       "      <th>freq</th>\n",
       "      <td>191</td>\n",
       "      <td>35</td>\n",
       "      <td>1</td>\n",
       "      <td>6</td>\n",
       "    </tr>\n",
       "  </tbody>\n",
       "</table>\n",
       "</div>"
      ],
      "text/plain": [
       "              artist                                    song  \\\n",
       "count          57650                                   57650   \n",
       "unique           643                                   44824   \n",
       "top     Donna Summer  Have Yourself A Merry Little Christmas   \n",
       "freq             191                                      35   \n",
       "\n",
       "                                                     link  \\\n",
       "count                                               57650   \n",
       "unique                                              57650   \n",
       "top     /w/wanda+jackson/fancy+satin+pillows_20197030....   \n",
       "freq                                                    1   \n",
       "\n",
       "                                                     text  \n",
       "count                                               57650  \n",
       "unique                                              57494  \n",
       "top     Chestnuts roasting on an open fire  \\r\\nJack F...  \n",
       "freq                                                    6  "
      ]
     },
     "execution_count": 52,
     "metadata": {},
     "output_type": "execute_result"
    }
   ],
   "source": [
    "df.describe()"
   ]
  },
  {
   "cell_type": "code",
   "execution_count": 53,
   "id": "8fce9981",
   "metadata": {},
   "outputs": [
    {
     "data": {
      "text/plain": [
       "(57650, 4)"
      ]
     },
     "execution_count": 53,
     "metadata": {},
     "output_type": "execute_result"
    }
   ],
   "source": [
    "df.shape"
   ]
  },
  {
   "cell_type": "code",
   "execution_count": 54,
   "id": "09f83562",
   "metadata": {},
   "outputs": [
    {
     "data": {
      "text/html": [
       "<div>\n",
       "<style scoped>\n",
       "    .dataframe tbody tr th:only-of-type {\n",
       "        vertical-align: middle;\n",
       "    }\n",
       "\n",
       "    .dataframe tbody tr th {\n",
       "        vertical-align: top;\n",
       "    }\n",
       "\n",
       "    .dataframe thead th {\n",
       "        text-align: right;\n",
       "    }\n",
       "</style>\n",
       "<table border=\"1\" class=\"dataframe\">\n",
       "  <thead>\n",
       "    <tr style=\"text-align: right;\">\n",
       "      <th></th>\n",
       "      <th>artist</th>\n",
       "      <th>song</th>\n",
       "      <th>link</th>\n",
       "      <th>text</th>\n",
       "    </tr>\n",
       "  </thead>\n",
       "  <tbody>\n",
       "    <tr>\n",
       "      <th>57644</th>\n",
       "      <td>Ziggy Marley</td>\n",
       "      <td>Generation</td>\n",
       "      <td>/z/ziggy+marley/generation_20531171.html</td>\n",
       "      <td>Many generation have passed away  \\r\\nFighting...</td>\n",
       "    </tr>\n",
       "    <tr>\n",
       "      <th>57645</th>\n",
       "      <td>Ziggy Marley</td>\n",
       "      <td>Good Old Days</td>\n",
       "      <td>/z/ziggy+marley/good+old+days_10198588.html</td>\n",
       "      <td>Irie days come on play  \\r\\nLet the angels fly...</td>\n",
       "    </tr>\n",
       "    <tr>\n",
       "      <th>57646</th>\n",
       "      <td>Ziggy Marley</td>\n",
       "      <td>Hand To Mouth</td>\n",
       "      <td>/z/ziggy+marley/hand+to+mouth_20531167.html</td>\n",
       "      <td>Power to the workers  \\r\\nMore power  \\r\\nPowe...</td>\n",
       "    </tr>\n",
       "    <tr>\n",
       "      <th>57647</th>\n",
       "      <td>Zwan</td>\n",
       "      <td>Come With Me</td>\n",
       "      <td>/z/zwan/come+with+me_20148981.html</td>\n",
       "      <td>all you need  \\r\\nis something i'll believe  \\...</td>\n",
       "    </tr>\n",
       "    <tr>\n",
       "      <th>57648</th>\n",
       "      <td>Zwan</td>\n",
       "      <td>Desire</td>\n",
       "      <td>/z/zwan/desire_20148986.html</td>\n",
       "      <td>northern star  \\r\\nam i frightened  \\r\\nwhere ...</td>\n",
       "    </tr>\n",
       "    <tr>\n",
       "      <th>57649</th>\n",
       "      <td>Zwan</td>\n",
       "      <td>Heartsong</td>\n",
       "      <td>/z/zwan/heartsong_20148991.html</td>\n",
       "      <td>come in  \\r\\nmake yourself at home  \\r\\ni'm a ...</td>\n",
       "    </tr>\n",
       "  </tbody>\n",
       "</table>\n",
       "</div>"
      ],
      "text/plain": [
       "             artist           song  \\\n",
       "57644  Ziggy Marley     Generation   \n",
       "57645  Ziggy Marley  Good Old Days   \n",
       "57646  Ziggy Marley  Hand To Mouth   \n",
       "57647          Zwan   Come With Me   \n",
       "57648          Zwan         Desire   \n",
       "57649          Zwan      Heartsong   \n",
       "\n",
       "                                              link  \\\n",
       "57644     /z/ziggy+marley/generation_20531171.html   \n",
       "57645  /z/ziggy+marley/good+old+days_10198588.html   \n",
       "57646  /z/ziggy+marley/hand+to+mouth_20531167.html   \n",
       "57647           /z/zwan/come+with+me_20148981.html   \n",
       "57648                 /z/zwan/desire_20148986.html   \n",
       "57649              /z/zwan/heartsong_20148991.html   \n",
       "\n",
       "                                                    text  \n",
       "57644  Many generation have passed away  \\r\\nFighting...  \n",
       "57645  Irie days come on play  \\r\\nLet the angels fly...  \n",
       "57646  Power to the workers  \\r\\nMore power  \\r\\nPowe...  \n",
       "57647  all you need  \\r\\nis something i'll believe  \\...  \n",
       "57648  northern star  \\r\\nam i frightened  \\r\\nwhere ...  \n",
       "57649  come in  \\r\\nmake yourself at home  \\r\\ni'm a ...  "
      ]
     },
     "execution_count": 54,
     "metadata": {},
     "output_type": "execute_result"
    }
   ],
   "source": [
    "df.tail(6)"
   ]
  },
  {
   "cell_type": "code",
   "execution_count": 55,
   "id": "c900885b",
   "metadata": {},
   "outputs": [
    {
     "data": {
      "text/plain": [
       "artist    0\n",
       "song      0\n",
       "link      0\n",
       "text      0\n",
       "dtype: int64"
      ]
     },
     "execution_count": 55,
     "metadata": {},
     "output_type": "execute_result"
    }
   ],
   "source": [
    "df.isnull().sum()"
   ]
  },
  {
   "cell_type": "code",
   "execution_count": 56,
   "id": "e33176d2",
   "metadata": {},
   "outputs": [],
   "source": [
    "df=df.sample(5000).drop('link',axis=True).reset_index(drop=1)"
   ]
  },
  {
   "cell_type": "code",
   "execution_count": 57,
   "id": "14f9bd82",
   "metadata": {},
   "outputs": [
    {
     "data": {
      "text/html": [
       "<div>\n",
       "<style scoped>\n",
       "    .dataframe tbody tr th:only-of-type {\n",
       "        vertical-align: middle;\n",
       "    }\n",
       "\n",
       "    .dataframe tbody tr th {\n",
       "        vertical-align: top;\n",
       "    }\n",
       "\n",
       "    .dataframe thead th {\n",
       "        text-align: right;\n",
       "    }\n",
       "</style>\n",
       "<table border=\"1\" class=\"dataframe\">\n",
       "  <thead>\n",
       "    <tr style=\"text-align: right;\">\n",
       "      <th></th>\n",
       "      <th>artist</th>\n",
       "      <th>song</th>\n",
       "      <th>text</th>\n",
       "    </tr>\n",
       "  </thead>\n",
       "  <tbody>\n",
       "    <tr>\n",
       "      <th>0</th>\n",
       "      <td>Chris Rea</td>\n",
       "      <td>God Gave Me An Angel</td>\n",
       "      <td>I was never born with the face of a  \\r\\nmovie...</td>\n",
       "    </tr>\n",
       "    <tr>\n",
       "      <th>1</th>\n",
       "      <td>Maroon 5</td>\n",
       "      <td>Pure Imagination</td>\n",
       "      <td>Come with me, and you'll be  \\r\\nIn a world of...</td>\n",
       "    </tr>\n",
       "    <tr>\n",
       "      <th>2</th>\n",
       "      <td>Styx</td>\n",
       "      <td>Golden Lark</td>\n",
       "      <td>Written by Dennis DeYoung  \\r\\nLead vocals by ...</td>\n",
       "    </tr>\n",
       "    <tr>\n",
       "      <th>3</th>\n",
       "      <td>Perry Como</td>\n",
       "      <td>God Rest Ye Merry, Gentlemen</td>\n",
       "      <td>God rest ye merry, gentlemen,  \\r\\nLet nothing...</td>\n",
       "    </tr>\n",
       "    <tr>\n",
       "      <th>4</th>\n",
       "      <td>Planetshakers</td>\n",
       "      <td>I'm Living For</td>\n",
       "      <td>Let the heavens and the earth  \\r\\nShout Your ...</td>\n",
       "    </tr>\n",
       "    <tr>\n",
       "      <th>5</th>\n",
       "      <td>Mazzy Star</td>\n",
       "      <td>Hair And Skin</td>\n",
       "      <td>Your hair and your eyes  \\r\\nI saw them in the...</td>\n",
       "    </tr>\n",
       "    <tr>\n",
       "      <th>6</th>\n",
       "      <td>Scorpions</td>\n",
       "      <td>Lady Starlight</td>\n",
       "      <td>Walking through a winter night,  \\r\\nCounting ...</td>\n",
       "    </tr>\n",
       "    <tr>\n",
       "      <th>7</th>\n",
       "      <td>Weird Al Yankovic</td>\n",
       "      <td>Livin' In The Fridge</td>\n",
       "      <td>There's somethin' weird in the fridge today  \\...</td>\n",
       "    </tr>\n",
       "    <tr>\n",
       "      <th>8</th>\n",
       "      <td>Wanda Jackson</td>\n",
       "      <td>Wasted</td>\n",
       "      <td>Wasted lonely nights wasted times I cry  \\r\\nW...</td>\n",
       "    </tr>\n",
       "    <tr>\n",
       "      <th>9</th>\n",
       "      <td>Rage Against The Machine</td>\n",
       "      <td>Kick Out The Jams</td>\n",
       "      <td>Kick Out the Jams, motherfuckers!  \\r\\nI'm gon...</td>\n",
       "    </tr>\n",
       "    <tr>\n",
       "      <th>10</th>\n",
       "      <td>Jackson Browne</td>\n",
       "      <td>Culver Moon</td>\n",
       "      <td>I live in a small town . . . deep in LA  \\r\\nA...</td>\n",
       "    </tr>\n",
       "    <tr>\n",
       "      <th>11</th>\n",
       "      <td>Keith Urban</td>\n",
       "      <td>Live To Love Another Day</td>\n",
       "      <td>Lord I fell for her smile  \\r\\nAnd she loved m...</td>\n",
       "    </tr>\n",
       "    <tr>\n",
       "      <th>12</th>\n",
       "      <td>Rolling Stones</td>\n",
       "      <td>Andrew's Blues</td>\n",
       "      <td>Yes now Andrew Oldham sittin' on a hill with J...</td>\n",
       "    </tr>\n",
       "    <tr>\n",
       "      <th>13</th>\n",
       "      <td>Coldplay</td>\n",
       "      <td>A Head Full Of Dreams</td>\n",
       "      <td>Oh, I think I landed in a world I hadn't seen ...</td>\n",
       "    </tr>\n",
       "    <tr>\n",
       "      <th>14</th>\n",
       "      <td>Ella Fitzgerald</td>\n",
       "      <td>Dreams Are Made For Children</td>\n",
       "      <td>Dim the light, little man  \\r\\nAnd tonight, li...</td>\n",
       "    </tr>\n",
       "    <tr>\n",
       "      <th>15</th>\n",
       "      <td>Doors</td>\n",
       "      <td>Summer's Almost Gone</td>\n",
       "      <td>Summer's almost gone  \\r\\nSummer's almost gone...</td>\n",
       "    </tr>\n",
       "    <tr>\n",
       "      <th>16</th>\n",
       "      <td>Sting</td>\n",
       "      <td>Natural High</td>\n",
       "      <td>Ooh!  \\r\\nWho needs the sky?  \\r\\nJust watch m...</td>\n",
       "    </tr>\n",
       "    <tr>\n",
       "      <th>17</th>\n",
       "      <td>Michael Bolton</td>\n",
       "      <td>Don't Tell Me It's Over</td>\n",
       "      <td>It's in your eyes--here we go again  \\r\\nTonig...</td>\n",
       "    </tr>\n",
       "    <tr>\n",
       "      <th>18</th>\n",
       "      <td>Sublime</td>\n",
       "      <td>40 Oz To Freedom</td>\n",
       "      <td>You've got your hair permed  \\r\\nYou've got yo...</td>\n",
       "    </tr>\n",
       "    <tr>\n",
       "      <th>19</th>\n",
       "      <td>Sia</td>\n",
       "      <td>The Church Of What's Happening Now</td>\n",
       "      <td>I want to change, to rearrange  \\r\\nWhat is go...</td>\n",
       "    </tr>\n",
       "  </tbody>\n",
       "</table>\n",
       "</div>"
      ],
      "text/plain": [
       "                      artist                                song  \\\n",
       "0                  Chris Rea                God Gave Me An Angel   \n",
       "1                   Maroon 5                    Pure Imagination   \n",
       "2                       Styx                         Golden Lark   \n",
       "3                 Perry Como        God Rest Ye Merry, Gentlemen   \n",
       "4              Planetshakers                      I'm Living For   \n",
       "5                 Mazzy Star                       Hair And Skin   \n",
       "6                  Scorpions                      Lady Starlight   \n",
       "7          Weird Al Yankovic                Livin' In The Fridge   \n",
       "8              Wanda Jackson                              Wasted   \n",
       "9   Rage Against The Machine                   Kick Out The Jams   \n",
       "10            Jackson Browne                         Culver Moon   \n",
       "11               Keith Urban            Live To Love Another Day   \n",
       "12            Rolling Stones                      Andrew's Blues   \n",
       "13                  Coldplay               A Head Full Of Dreams   \n",
       "14           Ella Fitzgerald        Dreams Are Made For Children   \n",
       "15                     Doors                Summer's Almost Gone   \n",
       "16                     Sting                        Natural High   \n",
       "17            Michael Bolton             Don't Tell Me It's Over   \n",
       "18                   Sublime                    40 Oz To Freedom   \n",
       "19                       Sia  The Church Of What's Happening Now   \n",
       "\n",
       "                                                 text  \n",
       "0   I was never born with the face of a  \\r\\nmovie...  \n",
       "1   Come with me, and you'll be  \\r\\nIn a world of...  \n",
       "2   Written by Dennis DeYoung  \\r\\nLead vocals by ...  \n",
       "3   God rest ye merry, gentlemen,  \\r\\nLet nothing...  \n",
       "4   Let the heavens and the earth  \\r\\nShout Your ...  \n",
       "5   Your hair and your eyes  \\r\\nI saw them in the...  \n",
       "6   Walking through a winter night,  \\r\\nCounting ...  \n",
       "7   There's somethin' weird in the fridge today  \\...  \n",
       "8   Wasted lonely nights wasted times I cry  \\r\\nW...  \n",
       "9   Kick Out the Jams, motherfuckers!  \\r\\nI'm gon...  \n",
       "10  I live in a small town . . . deep in LA  \\r\\nA...  \n",
       "11  Lord I fell for her smile  \\r\\nAnd she loved m...  \n",
       "12  Yes now Andrew Oldham sittin' on a hill with J...  \n",
       "13  Oh, I think I landed in a world I hadn't seen ...  \n",
       "14  Dim the light, little man  \\r\\nAnd tonight, li...  \n",
       "15  Summer's almost gone  \\r\\nSummer's almost gone...  \n",
       "16  Ooh!  \\r\\nWho needs the sky?  \\r\\nJust watch m...  \n",
       "17  It's in your eyes--here we go again  \\r\\nTonig...  \n",
       "18  You've got your hair permed  \\r\\nYou've got yo...  \n",
       "19  I want to change, to rearrange  \\r\\nWhat is go...  "
      ]
     },
     "execution_count": 57,
     "metadata": {},
     "output_type": "execute_result"
    }
   ],
   "source": [
    "df.head(20)"
   ]
  },
  {
   "cell_type": "code",
   "execution_count": 58,
   "id": "8363b42a",
   "metadata": {},
   "outputs": [
    {
     "data": {
      "text/plain": [
       "\"I was never born with the face of a  \\r\\nmovie star  \\r\\nI was never blessed with an easyload  \\r\\nalong the way  \\r\\nI have taken the wrong turning  \\r\\nSo many times I can't remember  \\r\\nBut one thing I have for sure  \\r\\nI can always smile and say  \\r\\n  \\r\\nGod gave me an angel with a smiling  \\r\\nface  \\r\\nGod gave me an angel this I know  \\r\\nMy churches are all empty and I'm guilty  \\r\\nevery day  \\r\\nBut god gave me an angel anyway  \\r\\n  \\r\\nTalk of being good and what became of  \\r\\nme  \\r\\nDo I hide my head in shame and turn  \\r\\naway  \\r\\nI have taken the wrong turning  \\r\\nSo many times I can't remember  \\r\\nBut one thing I have for sure  \\r\\nI can always smile and say  \\r\\n  \\r\\nBut God gave me an angel with a smiling  \\r\\nface  \\r\\nGod gave me an angel this I know  \\r\\nMy churches are all empty and I'm guilty  \\r\\nevery day  \\r\\nBut god gave me an angel anyway\\r\\n\\r\\n\""
      ]
     },
     "execution_count": 58,
     "metadata": {},
     "output_type": "execute_result"
    }
   ],
   "source": [
    "df['text'][0]"
   ]
  },
  {
   "cell_type": "markdown",
   "id": "3e92d0ff",
   "metadata": {},
   "source": [
    "# DATA PREPOCESSING"
   ]
  },
  {
   "cell_type": "code",
   "execution_count": 59,
   "id": "b9d20017",
   "metadata": {},
   "outputs": [],
   "source": [
    "df['text']=df['text'].str.lower().replace(r'^\\w\\s','').replace(r'\\n',' ',regex=True)"
   ]
  },
  {
   "cell_type": "code",
   "execution_count": 60,
   "id": "fcf8df36",
   "metadata": {},
   "outputs": [
    {
     "data": {
      "text/html": [
       "<div>\n",
       "<style scoped>\n",
       "    .dataframe tbody tr th:only-of-type {\n",
       "        vertical-align: middle;\n",
       "    }\n",
       "\n",
       "    .dataframe tbody tr th {\n",
       "        vertical-align: top;\n",
       "    }\n",
       "\n",
       "    .dataframe thead th {\n",
       "        text-align: right;\n",
       "    }\n",
       "</style>\n",
       "<table border=\"1\" class=\"dataframe\">\n",
       "  <thead>\n",
       "    <tr style=\"text-align: right;\">\n",
       "      <th></th>\n",
       "      <th>artist</th>\n",
       "      <th>song</th>\n",
       "      <th>text</th>\n",
       "    </tr>\n",
       "  </thead>\n",
       "  <tbody>\n",
       "    <tr>\n",
       "      <th>0</th>\n",
       "      <td>Chris Rea</td>\n",
       "      <td>God Gave Me An Angel</td>\n",
       "      <td>i was never born with the face of a  \\r movie ...</td>\n",
       "    </tr>\n",
       "    <tr>\n",
       "      <th>1</th>\n",
       "      <td>Maroon 5</td>\n",
       "      <td>Pure Imagination</td>\n",
       "      <td>come with me, and you'll be  \\r in a world of ...</td>\n",
       "    </tr>\n",
       "    <tr>\n",
       "      <th>2</th>\n",
       "      <td>Styx</td>\n",
       "      <td>Golden Lark</td>\n",
       "      <td>written by dennis deyoung  \\r lead vocals by d...</td>\n",
       "    </tr>\n",
       "    <tr>\n",
       "      <th>3</th>\n",
       "      <td>Perry Como</td>\n",
       "      <td>God Rest Ye Merry, Gentlemen</td>\n",
       "      <td>god rest ye merry, gentlemen,  \\r let nothing ...</td>\n",
       "    </tr>\n",
       "    <tr>\n",
       "      <th>4</th>\n",
       "      <td>Planetshakers</td>\n",
       "      <td>I'm Living For</td>\n",
       "      <td>let the heavens and the earth  \\r shout your m...</td>\n",
       "    </tr>\n",
       "  </tbody>\n",
       "</table>\n",
       "</div>"
      ],
      "text/plain": [
       "          artist                          song  \\\n",
       "0      Chris Rea          God Gave Me An Angel   \n",
       "1       Maroon 5              Pure Imagination   \n",
       "2           Styx                   Golden Lark   \n",
       "3     Perry Como  God Rest Ye Merry, Gentlemen   \n",
       "4  Planetshakers                I'm Living For   \n",
       "\n",
       "                                                text  \n",
       "0  i was never born with the face of a  \\r movie ...  \n",
       "1  come with me, and you'll be  \\r in a world of ...  \n",
       "2  written by dennis deyoung  \\r lead vocals by d...  \n",
       "3  god rest ye merry, gentlemen,  \\r let nothing ...  \n",
       "4  let the heavens and the earth  \\r shout your m...  "
      ]
     },
     "execution_count": 60,
     "metadata": {},
     "output_type": "execute_result"
    }
   ],
   "source": [
    "df.head(5)"
   ]
  },
  {
   "cell_type": "code",
   "execution_count": 61,
   "id": "3d1a75d9",
   "metadata": {},
   "outputs": [],
   "source": [
    "import nltk\n",
    "from nltk.stem.porter import PorterStemmer"
   ]
  },
  {
   "cell_type": "code",
   "execution_count": 62,
   "id": "9277c2a8",
   "metadata": {},
   "outputs": [],
   "source": [
    "stemmer=PorterStemmer()"
   ]
  },
  {
   "cell_type": "code",
   "execution_count": 63,
   "id": "c10b2e83",
   "metadata": {},
   "outputs": [],
   "source": [
    "def token(txt):\n",
    "    token=nltk.word_tokenize(txt)\n",
    "    a=[stemmer.stem(w) for w in token]\n",
    "    return \" \".join(a)"
   ]
  },
  {
   "cell_type": "code",
   "execution_count": 64,
   "id": "a847e081",
   "metadata": {},
   "outputs": [
    {
     "data": {
      "text/plain": [
       "'make somebodi happi is a question'"
      ]
     },
     "execution_count": 64,
     "metadata": {},
     "output_type": "execute_result"
    }
   ],
   "source": [
    "token(\"making somebody happy is a question \")"
   ]
  },
  {
   "cell_type": "code",
   "execution_count": 65,
   "id": "38a55fba",
   "metadata": {},
   "outputs": [
    {
     "data": {
      "text/plain": [
       "0       i wa never born with the face of a movi star i...\n",
       "1       come with me , and you 'll be in a world of pu...\n",
       "2       written by denni deyoung lead vocal by denni d...\n",
       "3       god rest ye merri , gentlemen , let noth you d...\n",
       "4       let the heaven and the earth shout your majest...\n",
       "                              ...                        \n",
       "4995    here you come draggin ' in three a.m. again gr...\n",
       "4996    sun , i ca n't slow you down run , build on sa...\n",
       "4997    written by chuck jackson and marvin yanci toda...\n",
       "4998    the summer air wa soft and warm the feel right...\n",
       "4999    now the time ha come when all is said and done...\n",
       "Name: text, Length: 5000, dtype: object"
      ]
     },
     "execution_count": 65,
     "metadata": {},
     "output_type": "execute_result"
    }
   ],
   "source": [
    "df['text'].apply(lambda x: token(x))"
   ]
  },
  {
   "cell_type": "code",
   "execution_count": 66,
   "id": "388e6388",
   "metadata": {},
   "outputs": [],
   "source": [
    "from sklearn.feature_extraction.text import TfidfVectorizer\n",
    "from sklearn.metrics.pairwise import cosine_similarity"
   ]
  },
  {
   "cell_type": "code",
   "execution_count": 67,
   "id": "ed834af9",
   "metadata": {},
   "outputs": [],
   "source": [
    "tfid=TfidfVectorizer(analyzer='word',stop_words='english')"
   ]
  },
  {
   "cell_type": "code",
   "execution_count": 68,
   "id": "18fe0868",
   "metadata": {},
   "outputs": [],
   "source": [
    "m=tfid.fit_transform(df['text'])"
   ]
  },
  {
   "cell_type": "code",
   "execution_count": 69,
   "id": "966ba0a7",
   "metadata": {},
   "outputs": [],
   "source": [
    "s=cosine_similarity(m)"
   ]
  },
  {
   "cell_type": "code",
   "execution_count": 70,
   "id": "81da25fe",
   "metadata": {},
   "outputs": [
    {
     "data": {
      "text/plain": [
       "array([1.        , 0.00360604, 0.01246523, ..., 0.03073548, 0.00782534,\n",
       "       0.00472756])"
      ]
     },
     "execution_count": 70,
     "metadata": {},
     "output_type": "execute_result"
    }
   ],
   "source": [
    "s[0]"
   ]
  },
  {
   "cell_type": "code",
   "execution_count": 71,
   "id": "81d18025",
   "metadata": {},
   "outputs": [
    {
     "data": {
      "text/plain": [
       "2620"
      ]
     },
     "execution_count": 71,
     "metadata": {},
     "output_type": "execute_result"
    }
   ],
   "source": [
    "df[df['song']=='Waiting For The Man'].index[0]"
   ]
  },
  {
   "cell_type": "code",
   "execution_count": 74,
   "id": "885dd623",
   "metadata": {},
   "outputs": [],
   "source": [
    "def recommender(song_name):\n",
    "    idx=df[df['song']==song_name].index[0]\n",
    "    d=sorted(list(enumerate(s[idx])),reverse=True,key=lambda x:x[1])\n",
    "    song=[]\n",
    "    for sid in d[1:5]:\n",
    "        song.append(df.iloc[sid[0]].song)\n",
    "    return song    "
   ]
  },
  {
   "cell_type": "code",
   "execution_count": 75,
   "id": "e9d96876",
   "metadata": {},
   "outputs": [
    {
     "data": {
      "text/plain": [
       "['Pure Imagination',\n",
       " 'Pure Imagination',\n",
       " 'It Must Be Imagination',\n",
       " 'Imagination']"
      ]
     },
     "execution_count": 75,
     "metadata": {},
     "output_type": "execute_result"
    }
   ],
   "source": [
    "recommender(\"Pure Imagination\")"
   ]
  },
  {
   "cell_type": "code",
   "execution_count": 76,
   "id": "78f25193",
   "metadata": {},
   "outputs": [],
   "source": [
    "import pickle"
   ]
  },
  {
   "cell_type": "code",
   "execution_count": 77,
   "id": "aabfac6b",
   "metadata": {},
   "outputs": [],
   "source": [
    "pickle.dump(s,open(\"similarity\",\"wb\"))"
   ]
  },
  {
   "cell_type": "code",
   "execution_count": 78,
   "id": "f303b712",
   "metadata": {},
   "outputs": [],
   "source": [
    "pickle.dump(df,open(\"df\",\"wb\"))"
   ]
  },
  {
   "cell_type": "code",
   "execution_count": null,
   "id": "ddba72e1",
   "metadata": {},
   "outputs": [],
   "source": []
  }
 ],
 "metadata": {
  "kernelspec": {
   "display_name": "Python 3",
   "language": "python",
   "name": "python3"
  },
  "language_info": {
   "codemirror_mode": {
    "name": "ipython",
    "version": 3
   },
   "file_extension": ".py",
   "mimetype": "text/x-python",
   "name": "python",
   "nbconvert_exporter": "python",
   "pygments_lexer": "ipython3",
   "version": "3.8.8"
  }
 },
 "nbformat": 4,
 "nbformat_minor": 5
}
